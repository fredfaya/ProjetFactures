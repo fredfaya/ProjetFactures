{
 "cells": [
  {
   "cell_type": "code",
   "execution_count": 1,
   "metadata": {
    "collapsed": true
   },
   "outputs": [],
   "source": [
    "from GPT.gpt import get_info_from_file"
   ]
  },
  {
   "cell_type": "code",
   "execution_count": 2,
   "outputs": [
    {
     "name": "stdout",
     "output_type": "stream",
     "text": [
      "{'expeditor_name': 'MARSPAPEL SARL', 'expeditor_address': 'Zone Industrielle Route De Martil 9 D, CP:93000, TETOUAN, MOROCCO', 'receiver_name': 'MARSPAPEL SARL', 'receiver_address': 'avenida hafsa oum al moeminine imb anas 5 boujarah, TETOUAN, cp 93000, MOROCCO', 'total_amount': '23.520,00', 'goods_origin': 'France'}\n"
     ]
    }
   ],
   "source": [
    "print(get_info_from_file('Files/facture1.pdf'))"
   ],
   "metadata": {
    "collapsed": false
   }
  },
  {
   "cell_type": "code",
   "execution_count": 2,
   "outputs": [],
   "source": [],
   "metadata": {
    "collapsed": false
   }
  }
 ],
 "metadata": {
  "kernelspec": {
   "display_name": "Python 3",
   "language": "python",
   "name": "python3"
  },
  "language_info": {
   "codemirror_mode": {
    "name": "ipython",
    "version": 2
   },
   "file_extension": ".py",
   "mimetype": "text/x-python",
   "name": "python",
   "nbconvert_exporter": "python",
   "pygments_lexer": "ipython2",
   "version": "2.7.6"
  }
 },
 "nbformat": 4,
 "nbformat_minor": 0
}
