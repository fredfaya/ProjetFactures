{
 "cells": [
  {
   "cell_type": "code",
   "execution_count": 1,
   "metadata": {
    "collapsed": true
   },
   "outputs": [],
   "source": [
    "from GPT.gpt import get_info_from_file"
   ]
  },
  {
   "cell_type": "code",
   "execution_count": 3,
   "outputs": [
    {
     "name": "stdout",
     "output_type": "stream",
     "text": [
      "\n",
      "Issuer or sender or bill to name : FSSB Chirurgische Nadeln GmbH \n",
      "Issuer or sender or bill to address : Allmendweg 2, 79798 Jestetten, Germany \n",
      "Delivery or receiver or ship to name : ChirurgieMed \n",
      "Delivery or receiver or ship to address : attn:Chahbouni,tel+212-661-394 375, lot.Belfkih, Showroom Medicale no. 91, Bld.Tariq Ben Ziad, Temara-Rabat, Rabat12000, Morocco \n",
      "Total amount : 22,994.40 EUR \n",
      "Goods origin or country of origin : Mexico \n",
      "Rib if they exist in this text : Commerzbank AG, D-78224 Singen, USD account IBAN: DE05 6928 0035 0841 0148 00 BIC : DRESDEFF692, EUR account IBAN: DE05 6928 0035 0841 0148 00 BIC : DRESDEFF692, EUR UBS AG  IBAN: CH20 0028 7287 8141 6960 T BIC:UBSWCHZH80A\n"
     ]
    }
   ],
   "source": [
    "print(get_info_from_file('Files/facture2.txt'))"
   ],
   "metadata": {
    "collapsed": false
   }
  },
  {
   "cell_type": "code",
   "execution_count": 2,
   "outputs": [],
   "source": [],
   "metadata": {
    "collapsed": false
   }
  }
 ],
 "metadata": {
  "kernelspec": {
   "display_name": "Python 3",
   "language": "python",
   "name": "python3"
  },
  "language_info": {
   "codemirror_mode": {
    "name": "ipython",
    "version": 2
   },
   "file_extension": ".py",
   "mimetype": "text/x-python",
   "name": "python",
   "nbconvert_exporter": "python",
   "pygments_lexer": "ipython2",
   "version": "2.7.6"
  }
 },
 "nbformat": 4,
 "nbformat_minor": 0
}
